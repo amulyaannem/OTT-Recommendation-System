{
 "cells": [
  {
   "cell_type": "code",
   "execution_count": 23,
   "id": "08610803",
   "metadata": {},
   "outputs": [],
   "source": [
    "import pandas as pd\n",
    "import numpy as np\n",
    "import matplotlib.pyplot as plt\n",
    "import seaborn as sns\n",
    "\n",
    "from sklearn.model_selection import train_test_split\n",
    "from sklearn.ensemble import RandomForestRegressor\n",
    "from sklearn.metrics import mean_squared_error, r2_score"
   ]
  },
  {
   "cell_type": "code",
   "execution_count": 24,
   "id": "3774b1ee",
   "metadata": {},
   "outputs": [],
   "source": [
    "def recommend_by_rating_and_platform(unrated,desired_rating, tolerance=0.5, platforms=None, n=10):\n",
    "    # Filter by rating range\n",
    "    results = unrated[\n",
    "        (unrated['predicted_rating'] >= desired_rating - tolerance) &\n",
    "        (unrated['predicted_rating'] <= desired_rating + tolerance)\n",
    "    ]\n",
    "    \n",
    "    # If specific platforms are provided, filter by those too\n",
    "    if platforms:\n",
    "        results = results[results['platform'].isin(platforms)]\n",
    "    \n",
    "    return results[['title', 'platform', 'predicted_rating']].sort_values(by='predicted_rating', ascending=False).head(n)\n"
   ]
  },
  {
   "cell_type": "code",
   "execution_count": 25,
   "id": "554747d6",
   "metadata": {},
   "outputs": [],
   "source": [
    "movies = pd.read_csv('MoviesOnStreamingPlatforms.csv')\n",
    "netflix = pd.read_csv('netflix_2025.csv')\n",
    "my_ratings = pd.read_csv('my_rating.csv')"
   ]
  },
  {
   "cell_type": "code",
   "execution_count": 26,
   "id": "b0a69d35",
   "metadata": {},
   "outputs": [],
   "source": [
    "movies.rename(columns={\n",
    "    'Title': 'title',\n",
    "    'Year': 'release_year',\n",
    "    'Age': 'age',\n",
    "    'Type': 'type',\n",
    "    'Netflix': 'netflix_available',\n",
    "    'Prime Video': 'prime_available'\n",
    "}, inplace=True)\n",
    "movies['netflix_available'] = movies['netflix_available'].fillna(0)\n",
    "movies['prime_available'] = movies['prime_available'].fillna(0)\n",
    "\n",
    "netflix.rename(columns={\n",
    "    'rating': 'age',\n",
    "    'genres': 'listed_in'\n",
    "}, inplace=True)\n",
    "netflix['netflix_available'] = 1\n",
    "netflix['prime_available'] = 0\n",
    "netflix['platform'] = 'Netflix'\n",
    "\n",
    "telugu = pd.read_csv('Telugu_Movies_Dataset.csv')\n",
    "\n",
    "# Rename columns\n",
    "telugu.rename(columns={\n",
    "    'Movie': 'title',\n",
    "    'Year': 'release_year',\n",
    "    'Rating': 'platform_rating',\n",
    "    'Genre': 'listed_in'\n",
    "}, inplace=True)\n",
    "\n",
    "# Add platform label\n",
    "telugu['platform'] = 'Telugu OTT'\n",
    "\n",
    "# Clean text\n",
    "telugu['title_lower'] = telugu['title'].str.lower().str.strip()\n",
    "\n",
    "tamil = pd.read_csv('Tamil_movies_dataset.csv')\n",
    "\n",
    "# Rename columns\n",
    "tamil.rename(columns={\n",
    "    'MovieName': 'title',\n",
    "    'Year': 'release_year',\n",
    "    'Rating': 'platform_rating',\n",
    "    'Genre': 'listed_in'\n",
    "}, inplace=True)\n",
    "\n",
    "# Add platform label\n",
    "tamil['platform'] = 'Tamil OTT'\n",
    "\n",
    "# Clean text\n",
    "tamil['title_lower'] = tamil['title'].str.lower().str.strip()\n",
    "\n"
   ]
  },
  {
   "cell_type": "code",
   "execution_count": 27,
   "id": "6431852a",
   "metadata": {},
   "outputs": [],
   "source": [
    "movies_netflix = movies[movies['netflix_available'] == 1].copy()\n",
    "movies_netflix['platform'] = 'Netflix'\n",
    "\n",
    "movies_prime = movies[movies['prime_available'] == 1].copy()\n",
    "movies_prime['platform'] = 'Prime Video'\n",
    "\n",
    "movies_disney = movies[movies['Disney+'] == 1].copy()\n",
    "movies_disney['platform'] = 'Disney+'\n",
    "\n"
   ]
  },
  {
   "cell_type": "code",
   "execution_count": 28,
   "id": "a8592029",
   "metadata": {},
   "outputs": [],
   "source": [
    "combined_data = pd.concat([movies_netflix, movies_prime, netflix], ignore_index=True)\n",
    "combined_data = pd.concat([movies_netflix, movies_prime, movies_disney], ignore_index=True)\n",
    "combined_data = pd.concat([combined_data, telugu, tamil], ignore_index=True)\n",
    "\n",
    "platform_dummies = pd.get_dummies(combined_data['platform'], prefix='platform')\n",
    "combined_data = pd.concat([combined_data, platform_dummies], axis=1)\n"
   ]
  },
  {
   "cell_type": "code",
   "execution_count": 29,
   "id": "b8bcc4cf",
   "metadata": {},
   "outputs": [
    {
     "data": {
      "text/plain": [
       "['features.pkl']"
      ]
     },
     "execution_count": 29,
     "metadata": {},
     "output_type": "execute_result"
    }
   ],
   "source": [
    "combined_data['title_lower'] = combined_data['title'].str.lower()\n",
    "my_ratings['title_lower'] = my_ratings['title'].str.lower()\n",
    "features = ['release_year', 'platform_rating'] + list(platform_dummies.columns)\n",
    "import joblib\n",
    "joblib.dump(features, 'features.pkl')\n"
   ]
  },
  {
   "cell_type": "code",
   "execution_count": 30,
   "id": "8de16976",
   "metadata": {},
   "outputs": [],
   "source": [
    "combined_data = pd.merge(\n",
    "    combined_data,\n",
    "    my_ratings[['title_lower', 'platform', 'rating']],\n",
    "    on=['title_lower', 'platform'],\n",
    "    how='left'\n",
    ")\n",
    "\n"
   ]
  },
  {
   "cell_type": "code",
   "execution_count": 31,
   "id": "822c65de",
   "metadata": {},
   "outputs": [
    {
     "name": "stdout",
     "output_type": "stream",
     "text": [
      "<class 'pandas.core.frame.DataFrame'>\n",
      "RangeIndex: 10461 entries, 0 to 10460\n",
      "Data columns (total 30 columns):\n",
      " #   Column                Non-Null Count  Dtype  \n",
      "---  ------                --------------  -----  \n",
      " 0   ID                    8730 non-null   float64\n",
      " 1   title                 10461 non-null  object \n",
      " 2   release_year          10413 non-null  float64\n",
      " 3   age                   4788 non-null   object \n",
      " 4   Rotten Tomatoes       8723 non-null   object \n",
      " 5   netflix_available     8730 non-null   float64\n",
      " 6   Hulu                  8730 non-null   float64\n",
      " 7   prime_available       8730 non-null   float64\n",
      " 8   Disney+               8730 non-null   float64\n",
      " 9   type                  8730 non-null   float64\n",
      " 10  platform              10461 non-null  object \n",
      " 11  Certificate           953 non-null    object \n",
      " 12  listed_in             1720 non-null   object \n",
      " 13  Overview              1223 non-null   object \n",
      " 14  Runtime               1402 non-null   float64\n",
      " 15  platform_rating       1731 non-null   float64\n",
      " 16  No.of.Ratings         1402 non-null   float64\n",
      " 17  title_lower           10461 non-null  object \n",
      " 18  Director              329 non-null    object \n",
      " 19  Actor                 329 non-null    object \n",
      " 20  PeopleVote            329 non-null    float64\n",
      " 21  Hero_Rating           329 non-null    float64\n",
      " 22  movie_rating          329 non-null    float64\n",
      " 23  content_rating        329 non-null    float64\n",
      " 24  platform_Disney+      10461 non-null  bool   \n",
      " 25  platform_Netflix      10461 non-null  bool   \n",
      " 26  platform_Prime Video  10461 non-null  bool   \n",
      " 27  platform_Tamil OTT    10461 non-null  bool   \n",
      " 28  platform_Telugu OTT   10461 non-null  bool   \n",
      " 29  rating                85 non-null     float64\n",
      "dtypes: bool(5), float64(15), object(10)\n",
      "memory usage: 2.0+ MB\n"
     ]
    },
    {
     "data": {
      "image/png": "[encoded data removed]",
      "text/plain": [
       "<Figure size 640x480 with 1 Axes>"
      ]
     },
     "metadata": {},
     "output_type": "display_data"
    }
   ],
   "source": [
    "combined_data.info()\n",
    "combined_data.head()\n",
    "combined_data[features].head()\n",
    "\n",
    "\n",
    "# Rating distribution\n",
    "combined_data['rating'].value_counts().sort_index().plot(kind='bar')\n",
    "plt.title('Your Personal Ratings')\n",
    "plt.xlabel('Rating')\n",
    "plt.ylabel('Count')\n",
    "plt.show()\n"
   ]
  },
  {
   "cell_type": "code",
   "execution_count": 32,
   "id": "3f491580",
   "metadata": {},
   "outputs": [
    {
     "name": "stdout",
     "output_type": "stream",
     "text": [
      "Index(['ID', 'title', 'release_year', 'age', 'Rotten Tomatoes',\n",
      "       'netflix_available', 'Hulu', 'prime_available', 'Disney+', 'type',\n",
      "       'platform', 'Certificate', 'listed_in', 'Overview', 'Runtime',\n",
      "       'platform_rating', 'No.of.Ratings', 'title_lower', 'Director', 'Actor',\n",
      "       'PeopleVote', 'Hero_Rating', 'movie_rating', 'content_rating',\n",
      "       'platform_Disney+', 'platform_Netflix', 'platform_Prime Video',\n",
      "       'platform_Tamil OTT', 'platform_Telugu OTT', 'rating'],\n",
      "      dtype='object')\n",
      "0    NaN\n",
      "1    NaN\n",
      "2    NaN\n",
      "3    NaN\n",
      "4    NaN\n",
      "5    NaN\n",
      "6    NaN\n",
      "7    NaN\n",
      "8    NaN\n",
      "9    NaN\n",
      "10   NaN\n",
      "11   NaN\n",
      "12   NaN\n",
      "13   NaN\n",
      "14   NaN\n",
      "15   NaN\n",
      "16   NaN\n",
      "17   NaN\n",
      "18   NaN\n",
      "19   NaN\n",
      "Name: rating, dtype: float64\n",
      "85\n"
     ]
    }
   ],
   "source": [
    "print(combined_data.columns)\n",
    "print(combined_data['rating'].head(20))\n",
    "print(combined_data['rating'].notnull().sum())\n"
   ]
  },
  {
   "cell_type": "code",
   "execution_count": 33,
   "id": "f74deff2",
   "metadata": {},
   "outputs": [],
   "source": [
    "# Train-test split (keep random_state if you want reproducibility)\n",
    "X = combined_data.dropna(subset=features + ['rating'])[features]\n",
    "y = combined_data.dropna(subset=features + ['rating'])['rating']\n"
   ]
  },
  {
   "cell_type": "code",
   "execution_count": 34,
   "id": "744cd597",
   "metadata": {},
   "outputs": [],
   "source": [
    "X_train, X_test, y_train, y_test = train_test_split(X, y, test_size=0.2)\n"
   ]
  },
  {
   "cell_type": "code",
   "execution_count": 35,
   "id": "2d09715a",
   "metadata": {},
   "outputs": [
    {
     "data": {
      "text/plain": [
       "['model.pkl']"
      ]
     },
     "execution_count": 35,
     "metadata": {},
     "output_type": "execute_result"
    }
   ],
   "source": [
    "model = RandomForestRegressor()\n",
    "model.fit(X_train, y_train)\n",
    "import joblib\n",
    "joblib.dump(model, 'model.pkl')\n"
   ]
  },
  {
   "cell_type": "code",
   "execution_count": 36,
   "id": "ce32a127",
   "metadata": {},
   "outputs": [
    {
     "name": "stdout",
     "output_type": "stream",
     "text": [
      "MSE: 3.3192372314195433\n",
      "R² Score: -0.40911014541395696\n"
     ]
    }
   ],
   "source": [
    "predictions = model.predict(X_test)\n",
    "\n",
    "print(\"MSE:\", mean_squared_error(y_test, predictions))\n",
    "print(\"R² Score:\", r2_score(y_test, predictions))\n"
   ]
  },
  {
   "cell_type": "code",
   "execution_count": 37,
   "id": "e0fe6bd0",
   "metadata": {},
   "outputs": [
    {
     "data": {
      "text/html": [
       "<div>\n",
       "<style scoped>\n",
       "    .dataframe tbody tr th:only-of-type {\n",
       "        vertical-align: middle;\n",
       "    }\n",
       "\n",
       "    .dataframe tbody tr th {\n",
       "        vertical-align: top;\n",
       "    }\n",
       "\n",
       "    .dataframe thead th {\n",
       "        text-align: right;\n",
       "    }\n",
       "</style>\n",
       "<table border=\"1\" class=\"dataframe\">\n",
       "  <thead>\n",
       "    <tr style=\"text-align: right;\">\n",
       "      <th></th>\n",
       "      <th>title</th>\n",
       "      <th>platform</th>\n",
       "      <th>predicted_rating</th>\n",
       "    </tr>\n",
       "  </thead>\n",
       "  <tbody>\n",
       "    <tr>\n",
       "      <th>10135</th>\n",
       "      <td>Mankatha</td>\n",
       "      <td>Tamil OTT</td>\n",
       "      <td>6.620175</td>\n",
       "    </tr>\n",
       "    <tr>\n",
       "      <th>8859</th>\n",
       "      <td>Kanche</td>\n",
       "      <td>Telugu OTT</td>\n",
       "      <td>6.616667</td>\n",
       "    </tr>\n",
       "    <tr>\n",
       "      <th>10219</th>\n",
       "      <td>Ammani</td>\n",
       "      <td>Tamil OTT</td>\n",
       "      <td>6.608667</td>\n",
       "    </tr>\n",
       "    <tr>\n",
       "      <th>8869</th>\n",
       "      <td>Arundhati</td>\n",
       "      <td>Telugu OTT</td>\n",
       "      <td>6.601833</td>\n",
       "    </tr>\n",
       "    <tr>\n",
       "      <th>9795</th>\n",
       "      <td>Nachavule</td>\n",
       "      <td>Telugu OTT</td>\n",
       "      <td>6.601833</td>\n",
       "    </tr>\n",
       "    <tr>\n",
       "      <th>8804</th>\n",
       "      <td>Arya</td>\n",
       "      <td>Telugu OTT</td>\n",
       "      <td>6.600000</td>\n",
       "    </tr>\n",
       "    <tr>\n",
       "      <th>8927</th>\n",
       "      <td>Anand</td>\n",
       "      <td>Telugu OTT</td>\n",
       "      <td>6.600000</td>\n",
       "    </tr>\n",
       "    <tr>\n",
       "      <th>8907</th>\n",
       "      <td>7/G Rainbow Colony</td>\n",
       "      <td>Telugu OTT</td>\n",
       "      <td>6.600000</td>\n",
       "    </tr>\n",
       "    <tr>\n",
       "      <th>9889</th>\n",
       "      <td>Love Today</td>\n",
       "      <td>Telugu OTT</td>\n",
       "      <td>6.600000</td>\n",
       "    </tr>\n",
       "    <tr>\n",
       "      <th>9283</th>\n",
       "      <td>Kalloori</td>\n",
       "      <td>Telugu OTT</td>\n",
       "      <td>6.589917</td>\n",
       "    </tr>\n",
       "  </tbody>\n",
       "</table>\n",
       "</div>"
      ],
      "text/plain": [
       "                    title    platform  predicted_rating\n",
       "10135            Mankatha   Tamil OTT          6.620175\n",
       "8859               Kanche  Telugu OTT          6.616667\n",
       "10219              Ammani   Tamil OTT          6.608667\n",
       "8869            Arundhati  Telugu OTT          6.601833\n",
       "9795            Nachavule  Telugu OTT          6.601833\n",
       "8804                 Arya  Telugu OTT          6.600000\n",
       "8927                Anand  Telugu OTT          6.600000\n",
       "8907   7/G Rainbow Colony  Telugu OTT          6.600000\n",
       "9889           Love Today  Telugu OTT          6.600000\n",
       "9283             Kalloori  Telugu OTT          6.589917"
      ]
     },
     "execution_count": 37,
     "metadata": {},
     "output_type": "execute_result"
    }
   ],
   "source": [
    "unrated = combined_data[combined_data['rating'].isnull()].copy()\n",
    "unrated_X = unrated[features]\n",
    "\n",
    "unrated['predicted_rating'] = model.predict(unrated_X)\n",
    "combined_data.loc[unrated.index, 'predicted_rating'] = unrated['predicted_rating']\n",
    "# Top 10 recommendations\n",
    "recommendations = unrated.sort_values(by='predicted_rating', ascending=False)\n",
    "recommendations[['title', 'platform', 'predicted_rating']].head(10)\n"
   ]
  },
  {
   "cell_type": "code",
   "execution_count": 38,
   "id": "c214fb97",
   "metadata": {},
   "outputs": [
    {
     "data": {
      "image/png": "[encoded data removed]",
      "text/plain": [
       "<Figure size 640x480 with 1 Axes>"
      ]
     },
     "metadata": {},
     "output_type": "display_data"
    },
    {
     "data": {
      "image/png": "[encoded data removed]",
      "text/plain": [
       "<Figure size 640x480 with 1 Axes>"
      ]
     },
     "metadata": {},
     "output_type": "display_data"
    }
   ],
   "source": [
    "combined_data['platform'].value_counts().plot(kind='bar')\n",
    "plt.title('Number of Titles by Platform')\n",
    "plt.show()\n",
    "\n",
    "combined_data['release_year'].value_counts().sort_index().plot(kind='line')\n",
    "plt.title('Number of Movies per Year')\n",
    "plt.show()\n"
   ]
  },
  {
   "cell_type": "code",
   "execution_count": 39,
   "id": "b60dc816",
   "metadata": {},
   "outputs": [],
   "source": [
    "combined_data.to_csv('merged_ott_data_final.csv', index=False)\n"
   ]
  },
  {
   "cell_type": "code",
   "execution_count": 40,
   "id": "7f3ac7ab",
   "metadata": {},
   "outputs": [
    {
     "data": {
      "text/html": [
       "<div>\n",
       "<style scoped>\n",
       "    .dataframe tbody tr th:only-of-type {\n",
       "        vertical-align: middle;\n",
       "    }\n",
       "\n",
       "    .dataframe tbody tr th {\n",
       "        vertical-align: top;\n",
       "    }\n",
       "\n",
       "    .dataframe thead th {\n",
       "        text-align: right;\n",
       "    }\n",
       "</style>\n",
       "<table border=\"1\" class=\"dataframe\">\n",
       "  <thead>\n",
       "    <tr style=\"text-align: right;\">\n",
       "      <th></th>\n",
       "      <th>title</th>\n",
       "      <th>platform</th>\n",
       "      <th>predicted_rating</th>\n",
       "    </tr>\n",
       "  </thead>\n",
       "  <tbody>\n",
       "    <tr>\n",
       "      <th>3263</th>\n",
       "      <td>Twins Mission</td>\n",
       "      <td>Netflix</td>\n",
       "      <td>6.515</td>\n",
       "    </tr>\n",
       "    <tr>\n",
       "      <th>236</th>\n",
       "      <td>Like Stars on Earth</td>\n",
       "      <td>Netflix</td>\n",
       "      <td>6.515</td>\n",
       "    </tr>\n",
       "    <tr>\n",
       "      <th>168</th>\n",
       "      <td>Stardust</td>\n",
       "      <td>Netflix</td>\n",
       "      <td>6.515</td>\n",
       "    </tr>\n",
       "    <tr>\n",
       "      <th>265</th>\n",
       "      <td>Just Another Love Story</td>\n",
       "      <td>Netflix</td>\n",
       "      <td>6.515</td>\n",
       "    </tr>\n",
       "    <tr>\n",
       "      <th>789</th>\n",
       "      <td>Naruto Shippuden the Movie</td>\n",
       "      <td>Netflix</td>\n",
       "      <td>6.515</td>\n",
       "    </tr>\n",
       "  </tbody>\n",
       "</table>\n",
       "</div>"
      ],
      "text/plain": [
       "                           title platform  predicted_rating\n",
       "3263               Twins Mission  Netflix             6.515\n",
       "236          Like Stars on Earth  Netflix             6.515\n",
       "168                     Stardust  Netflix             6.515\n",
       "265      Just Another Love Story  Netflix             6.515\n",
       "789   Naruto Shippuden the Movie  Netflix             6.515"
      ]
     },
     "execution_count": 40,
     "metadata": {},
     "output_type": "execute_result"
    }
   ],
   "source": [
    "recommend_by_rating_and_platform(unrated, 6.5, tolerance=0.3, platforms=['Netflix'], n=5)\n"
   ]
  },
  {
   "cell_type": "code",
   "execution_count": 41,
   "id": "3f7c9120",
   "metadata": {},
   "outputs": [
    {
     "data": {
      "text/html": [
       "<div>\n",
       "<style scoped>\n",
       "    .dataframe tbody tr th:only-of-type {\n",
       "        vertical-align: middle;\n",
       "    }\n",
       "\n",
       "    .dataframe tbody tr th {\n",
       "        vertical-align: top;\n",
       "    }\n",
       "\n",
       "    .dataframe thead th {\n",
       "        text-align: right;\n",
       "    }\n",
       "</style>\n",
       "<table border=\"1\" class=\"dataframe\">\n",
       "  <thead>\n",
       "    <tr style=\"text-align: right;\">\n",
       "      <th></th>\n",
       "      <th>title</th>\n",
       "      <th>platform</th>\n",
       "      <th>predicted_rating</th>\n",
       "    </tr>\n",
       "  </thead>\n",
       "  <tbody>\n",
       "    <tr>\n",
       "      <th>8808</th>\n",
       "      <td>OK Kanmani</td>\n",
       "      <td>Telugu OTT</td>\n",
       "      <td>5.495000</td>\n",
       "    </tr>\n",
       "    <tr>\n",
       "      <th>8789</th>\n",
       "      <td>Temper</td>\n",
       "      <td>Telugu OTT</td>\n",
       "      <td>5.495000</td>\n",
       "    </tr>\n",
       "    <tr>\n",
       "      <th>8917</th>\n",
       "      <td>Rx 100</td>\n",
       "      <td>Telugu OTT</td>\n",
       "      <td>5.493333</td>\n",
       "    </tr>\n",
       "    <tr>\n",
       "      <th>9261</th>\n",
       "      <td>Hushaaru</td>\n",
       "      <td>Telugu OTT</td>\n",
       "      <td>5.493333</td>\n",
       "    </tr>\n",
       "    <tr>\n",
       "      <th>9183</th>\n",
       "      <td>Neevevaro</td>\n",
       "      <td>Telugu OTT</td>\n",
       "      <td>5.493333</td>\n",
       "    </tr>\n",
       "    <tr>\n",
       "      <th>9297</th>\n",
       "      <td>Nannu Dochukunduvate</td>\n",
       "      <td>Telugu OTT</td>\n",
       "      <td>5.493333</td>\n",
       "    </tr>\n",
       "    <tr>\n",
       "      <th>9651</th>\n",
       "      <td>All the Best</td>\n",
       "      <td>Telugu OTT</td>\n",
       "      <td>5.478333</td>\n",
       "    </tr>\n",
       "    <tr>\n",
       "      <th>9218</th>\n",
       "      <td>Subramanyam for Sale</td>\n",
       "      <td>Telugu OTT</td>\n",
       "      <td>5.470000</td>\n",
       "    </tr>\n",
       "    <tr>\n",
       "      <th>9129</th>\n",
       "      <td>Jayasurya</td>\n",
       "      <td>Telugu OTT</td>\n",
       "      <td>5.470000</td>\n",
       "    </tr>\n",
       "    <tr>\n",
       "      <th>8837</th>\n",
       "      <td>Masss</td>\n",
       "      <td>Telugu OTT</td>\n",
       "      <td>5.470000</td>\n",
       "    </tr>\n",
       "  </tbody>\n",
       "</table>\n",
       "</div>"
      ],
      "text/plain": [
       "                     title    platform  predicted_rating\n",
       "8808            OK Kanmani  Telugu OTT          5.495000\n",
       "8789                Temper  Telugu OTT          5.495000\n",
       "8917                Rx 100  Telugu OTT          5.493333\n",
       "9261              Hushaaru  Telugu OTT          5.493333\n",
       "9183             Neevevaro  Telugu OTT          5.493333\n",
       "9297  Nannu Dochukunduvate  Telugu OTT          5.493333\n",
       "9651          All the Best  Telugu OTT          5.478333\n",
       "9218  Subramanyam for Sale  Telugu OTT          5.470000\n",
       "9129             Jayasurya  Telugu OTT          5.470000\n",
       "8837                 Masss  Telugu OTT          5.470000"
      ]
     },
     "execution_count": 41,
     "metadata": {},
     "output_type": "execute_result"
    }
   ],
   "source": [
    "recommend_by_rating_and_platform(unrated,5, tolerance=0.5, platforms=['Telugu OTT', 'Netflix'], n=10)\n"
   ]
  },
  {
   "cell_type": "code",
   "execution_count": 42,
   "id": "1bf04395",
   "metadata": {},
   "outputs": [
    {
     "data": {
      "text/plain": [
       "platform\n",
       "Disney+        5.888770\n",
       "Netflix        5.454161\n",
       "Prime Video    5.839307\n",
       "Tamil OTT      5.043188\n",
       "Telugu OTT     5.222205\n",
       "Name: predicted_rating, dtype: float64"
      ]
     },
     "execution_count": 42,
     "metadata": {},
     "output_type": "execute_result"
    }
   ],
   "source": [
    "unrated.groupby('platform')['predicted_rating'].mean()"
   ]
  },
  {
   "cell_type": "code",
   "execution_count": 43,
   "id": "dc989bf7",
   "metadata": {},
   "outputs": [
    {
     "data": {
      "text/plain": [
       "platform\n",
       "Telugu OTT     83\n",
       "Netflix        71\n",
       "Tamil OTT       7\n",
       "Disney+         1\n",
       "Prime Video     1\n",
       "Name: count, dtype: int64"
      ]
     },
     "execution_count": 43,
     "metadata": {},
     "output_type": "execute_result"
    }
   ],
   "source": [
    "my_ratings['platform'].value_counts()"
   ]
  },
  {
   "cell_type": "code",
   "execution_count": 44,
   "id": "1f76e3dd",
   "metadata": {},
   "outputs": [
    {
     "data": {
      "text/plain": [
       "platform\n",
       "Telugu OTT    69\n",
       "Netflix       12\n",
       "Tamil OTT      4\n",
       "Name: count, dtype: int64"
      ]
     },
     "execution_count": 44,
     "metadata": {},
     "output_type": "execute_result"
    }
   ],
   "source": [
    "combined_data['platform'].value_counts()\n",
    "combined_data[combined_data['rating'].notnull()]['platform'].value_counts()"
   ]
  }
 ],
 "metadata": {
  "kernelspec": {
   "display_name": "Python 3",
   "language": "python",
   "name": "python3"
  },
  "language_info": {
   "codemirror_mode": {
    "name": "ipython",
    "version": 3
   },
   "file_extension": ".py",
   "mimetype": "text/x-python",
   "name": "python",
   "nbconvert_exporter": "python",
   "pygments_lexer": "ipython3",
   "version": "3.12.5"
  }
 },
 "nbformat": 4,
 "nbformat_minor": 5
}
